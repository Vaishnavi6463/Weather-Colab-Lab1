{
  "nbformat": 4,
  "nbformat_minor": 0,
  "metadata": {
    "colab": {
      "provenance": [],
      "authorship_tag": "ABX9TyOMH/SPhgpb3zNb75FlQ3ib",
      "include_colab_link": true
    },
    "kernelspec": {
      "name": "python3",
      "display_name": "Python 3"
    },
    "language_info": {
      "name": "python"
    }
  },
  "cells": [
    {
      "cell_type": "markdown",
      "metadata": {
        "id": "view-in-github",
        "colab_type": "text"
      },
      "source": [
        "<a href=\"https://colab.research.google.com/github/Vaishnavi6463/Weather-Colab-Lab1/blob/main/wewther_modeling.ipynb\" target=\"_parent\"><img src=\"https://colab.research.google.com/assets/colab-badge.svg\" alt=\"Open In Colab\"/></a>"
      ]
    },
    {
      "cell_type": "code",
      "execution_count": 8,
      "metadata": {
        "id": "b9pXT7c6KKBD"
      },
      "outputs": [],
      "source": [
        "def Temperature_modeling(a,b,c,time):\n",
        "  temp  = a*time**2+b*time+c\n",
        "  return temp\n",
        ""
      ]
    },
    {
      "cell_type": "code",
      "source": [
        "a=1\n",
        "b=2\n",
        "c=3\n",
        "time = 4\n",
        "temp = Temperature_modeling(a,b,c,time)\n",
        "print(f\"the Temperature at time {time} is {temp}\")"
      ],
      "metadata": {
        "colab": {
          "base_uri": "https://localhost:8080/"
        },
        "id": "FVoguIcgQvLL",
        "outputId": "b370c86f-5bf2-4d28-a632-eac6b7e85190"
      },
      "execution_count": 9,
      "outputs": [
        {
          "output_type": "stream",
          "name": "stdout",
          "text": [
            "the Temperature at time 4 is 27\n"
          ]
        }
      ]
    },
    {
      "cell_type": "markdown",
      "source": [],
      "metadata": {
        "id": "6F6IZO2UMeRF"
      }
    },
    {
      "cell_type": "code",
      "source": [
        "temp = Temperature_modeling(float(input('Enter a:')),float(input('Enter b:')),float(input('Enter c:')),int(input('Enter Time:')))\n",
        "print(f\"the Temperature at time {time} is {temp}\")"
      ],
      "metadata": {
        "colab": {
          "base_uri": "https://localhost:8080/"
        },
        "id": "pRXr-BvJSNSt",
        "outputId": "2d79ee64-cd47-43a5-a209-eb025866b228"
      },
      "execution_count": 11,
      "outputs": [
        {
          "output_type": "stream",
          "name": "stdout",
          "text": [
            "Enter a:2\n",
            "Enter b:3\n",
            "Enter c:5\n",
            "Enter Time:7\n",
            "the Temperature at time 4 is 124.0\n"
          ]
        }
      ]
    },
    {
      "cell_type": "code",
      "source": [
        "# Create and write data to the file\n",
        "with open('whether_single.txt', 'w') as f:\n",
        "    f.write(\"1.2 2.4 3.6 5\")\n"
      ],
      "metadata": {
        "id": "-HReP0ddSkq8"
      },
      "execution_count": 13,
      "outputs": []
    },
    {
      "cell_type": "code",
      "source": [
        "with open('whether_single.txt','r') as files:\n",
        "  file = files.readline();\n",
        "  a,b,c,time = file.split()\n",
        "  a = float(a)\n",
        "  b= float(b)\n",
        "  c = float(c)\n",
        "  time = int(time)\n",
        "  temp = Temperature_modeling(a,b,c,time)\n",
        "  print(f'The Temperature at time {time} is {temp}')\n",
        ""
      ],
      "metadata": {
        "colab": {
          "base_uri": "https://localhost:8080/"
        },
        "id": "5RKv_rbxTZwT",
        "outputId": "3330adcd-fd25-4884-c288-9caef8ce2a0c"
      },
      "execution_count": 14,
      "outputs": [
        {
          "output_type": "stream",
          "name": "stdout",
          "text": [
            "The Temperature at time 5 is 45.6\n"
          ]
        }
      ]
    },
    {
      "cell_type": "code",
      "source": [
        "# Step 1: Create the file with multiple lines of input\n",
        "with open('whether_multiple.txt', 'w') as f:\n",
        "    f.write(\"1.0 2.0 3.0 2\\n\")\n",
        "    f.write(\"0.5 1.5 2.5 4\\n\")\n",
        "    f.write(\"2.0 0.0 1.0 3\\n\")\n"
      ],
      "metadata": {
        "id": "eSCPDu7-TnOd"
      },
      "execution_count": 15,
      "outputs": []
    },
    {
      "cell_type": "code",
      "source": [
        "with open('whether_multiple.txt','r') as files:\n",
        "  for file in files:\n",
        "    a,b,c,time = file.strip().split()\n",
        "    a = float(a)\n",
        "    b=float(b)\n",
        "    c = float(c)\n",
        "    time = int(time)\n",
        "\n",
        "    temp = Temperature_modeling(a,b,c,time)\n",
        "    print(f'The Temperature at time {time} is {temp}')"
      ],
      "metadata": {
        "colab": {
          "base_uri": "https://localhost:8080/"
        },
        "id": "PIF6i7gOTrf8",
        "outputId": "4d7a8387-dc6e-4292-a41c-e3842480dc15"
      },
      "execution_count": 16,
      "outputs": [
        {
          "output_type": "stream",
          "name": "stdout",
          "text": [
            "The Temperature at time 2 is 11.0\n",
            "The Temperature at time 4 is 16.5\n",
            "The Temperature at time 3 is 19.0\n"
          ]
        }
      ]
    }
  ]
}